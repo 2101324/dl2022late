{
  "nbformat": 4,
  "nbformat_minor": 0,
  "metadata": {
    "colab": {
      "provenance": [],
      "authorship_tag": "ABX9TyNz+DzyUVttZHOCCEZBglxl",
      "include_colab_link": true
    },
    "kernelspec": {
      "name": "python3",
      "display_name": "Python 3"
    },
    "language_info": {
      "name": "python"
    }
  },
  "cells": [
    {
      "cell_type": "markdown",
      "metadata": {
        "id": "view-in-github",
        "colab_type": "text"
      },
      "source": [
        "<a href=\"https://colab.research.google.com/github/2101324/dl2022late/blob/main/CNN9.ipynb\" target=\"_parent\"><img src=\"https://colab.research.google.com/assets/colab-badge.svg\" alt=\"Open In Colab\"/></a>"
      ]
    },
    {
      "cell_type": "code",
      "execution_count": 1,
      "metadata": {
        "id": "Hseu0uwQweUb"
      },
      "outputs": [],
      "source": [
        "from keras.models import Sequential, Model\n",
        "from keras.layers import Dense, Flatten, Conv2D\n",
        "     "
      ]
    },
    {
      "cell_type": "code",
      "source": [
        "\n",
        "import keras\n",
        "     "
      ],
      "metadata": {
        "id": "Z1jzbtxZxbXE"
      },
      "execution_count": 2,
      "outputs": []
    },
    {
      "cell_type": "code",
      "source": [
        "\n",
        "from IPython.display import SVG\n",
        "from keras.utils.vis_utils import model_to_dot"
      ],
      "metadata": {
        "id": "w4DYw2XGxdBX"
      },
      "execution_count": 3,
      "outputs": []
    },
    {
      "cell_type": "code",
      "source": [
        "import numpy as np # importして、npという別名を設定\n",
        "# 早期終了（Early Stopping）のためのライブラリをimport\n",
        "import keras.callbacks as callbacks # callbacksという別名を設定"
      ],
      "metadata": {
        "id": "VqaPyaXtxfCd"
      },
      "execution_count": 4,
      "outputs": []
    },
    {
      "cell_type": "code",
      "source": [
        "\n",
        "# 学習用データをx_trainとして作る\n",
        "x_train = np.random.random((100, 6, 6, 1))\n",
        "# 学習用データの正解をy_trainとして作る\n",
        "y_train = keras.utils.to_categorical(np.random.randint(10, size=(100, 1)), num_classes = 10)\n",
        "     \n",
        "\n",
        "# テスト検証用データをx_testとして作る\n",
        "# (6, 6, 1)の形を今度は20セット分\n",
        "x_test = np.random.random((20, 6, 6, 1))\n",
        "# テスト検証用データの正解をy_testとして作る\n",
        "y_test = keras.utils.to_categorical(np.random.randint(10, size=(20, 1)), num_classes = 10)"
      ],
      "metadata": {
        "id": "rrSCs88Axg79"
      },
      "execution_count": 5,
      "outputs": []
    },
    {
      "cell_type": "code",
      "source": [
        "\n",
        "model = Sequential()"
      ],
      "metadata": {
        "id": "vMa7FSNsxirX"
      },
      "execution_count": 6,
      "outputs": []
    },
    {
      "cell_type": "code",
      "source": [
        "\n",
        "# 畳み込み層追加\n",
        "model.add(Conv2D(\n",
        "    filters=3, # フィルター３パターン\n",
        "    kernel_size=(3, 3), # 受容野のサイズ縦3, 横3\n",
        "    kernel_initializer='lecun_uniform',\n",
        "    input_shape=(6, 6, 1), # 入力データの形縦6, 横6\n",
        "    name='Conv2D_1'\n",
        "    ))"
      ],
      "metadata": {
        "id": "hxDnKMBuxkJE"
      },
      "execution_count": 7,
      "outputs": []
    },
    {
      "cell_type": "code",
      "source": [
        "\n",
        "# 全結合層\n",
        "model.add(Flatten(\n",
        "    name='Flatten_1'\n",
        "    ))\n",
        "# softmaxで分類するニューロン層\n",
        "model.add(Dense(units = 10, activation = 'softmax', name = 'Dense_1'))"
      ],
      "metadata": {
        "id": "Bjk4OU0BxnF7"
      },
      "execution_count": 8,
      "outputs": []
    },
    {
      "cell_type": "code",
      "source": [
        "SVG(model_to_dot(model, show_shapes=True, dpi=None).create(prog='dot', format='svg'))"
      ],
      "metadata": {
        "colab": {
          "base_uri": "https://localhost:8080/",
          "height": 427
        },
        "id": "_605i3oSxo70",
        "outputId": "196d72ed-325c-4fb4-8dee-508cae91ac11"
      },
      "execution_count": 9,
      "outputs": [
        {
          "output_type": "execute_result",
          "data": {
            "text/plain": [
              "<IPython.core.display.SVG object>"
            ],
            "image/svg+xml": "<svg xmlns=\"http://www.w3.org/2000/svg\" xmlns:xlink=\"http://www.w3.org/1999/xlink\" width=\"352pt\" height=\"304pt\" viewBox=\"0.00 0.00 352.00 304.00\">\n<g id=\"graph0\" class=\"graph\" transform=\"scale(1 1) rotate(0) translate(4 300)\">\n<title>G</title>\n<polygon fill=\"white\" stroke=\"transparent\" points=\"-4,4 -4,-300 348,-300 348,4 -4,4\"/>\n<!-- dpi -->\n<g id=\"node1\" class=\"node\">\n<title>dpi</title>\n<ellipse fill=\"none\" stroke=\"black\" cx=\"27\" cy=\"-272.5\" rx=\"27\" ry=\"18\"/>\n<text text-anchor=\"middle\" x=\"27\" y=\"-268.8\" font-family=\"Times,serif\" font-size=\"14.00\">dpi</text>\n</g>\n<!-- 140591563185504 -->\n<g id=\"node2\" class=\"node\">\n<title>140591563185504</title>\n<polygon fill=\"none\" stroke=\"black\" points=\"72,-249.5 72,-295.5 344,-295.5 344,-249.5 72,-249.5\"/>\n<text text-anchor=\"middle\" x=\"127\" y=\"-280.3\" font-family=\"Times,serif\" font-size=\"14.00\">Conv2D_1_input</text>\n<polyline fill=\"none\" stroke=\"black\" points=\"72,-272.5 182,-272.5 \"/>\n<text text-anchor=\"middle\" x=\"127\" y=\"-257.3\" font-family=\"Times,serif\" font-size=\"14.00\">InputLayer</text>\n<polyline fill=\"none\" stroke=\"black\" points=\"182,-249.5 182,-295.5 \"/>\n<text text-anchor=\"middle\" x=\"209.5\" y=\"-280.3\" font-family=\"Times,serif\" font-size=\"14.00\">input:</text>\n<polyline fill=\"none\" stroke=\"black\" points=\"182,-272.5 237,-272.5 \"/>\n<text text-anchor=\"middle\" x=\"209.5\" y=\"-257.3\" font-family=\"Times,serif\" font-size=\"14.00\">output:</text>\n<polyline fill=\"none\" stroke=\"black\" points=\"237,-249.5 237,-295.5 \"/>\n<text text-anchor=\"middle\" x=\"290.5\" y=\"-280.3\" font-family=\"Times,serif\" font-size=\"14.00\">[(None, 6, 6, 1)]</text>\n<polyline fill=\"none\" stroke=\"black\" points=\"237,-272.5 344,-272.5 \"/>\n<text text-anchor=\"middle\" x=\"290.5\" y=\"-257.3\" font-family=\"Times,serif\" font-size=\"14.00\">[(None, 6, 6, 1)]</text>\n</g>\n<!-- 140591563185552 -->\n<g id=\"node3\" class=\"node\">\n<title>140591563185552</title>\n<polygon fill=\"none\" stroke=\"black\" points=\"93.5,-166.5 93.5,-212.5 322.5,-212.5 322.5,-166.5 93.5,-166.5\"/>\n<text text-anchor=\"middle\" x=\"131.5\" y=\"-197.3\" font-family=\"Times,serif\" font-size=\"14.00\">Conv2D_1</text>\n<polyline fill=\"none\" stroke=\"black\" points=\"93.5,-189.5 169.5,-189.5 \"/>\n<text text-anchor=\"middle\" x=\"131.5\" y=\"-174.3\" font-family=\"Times,serif\" font-size=\"14.00\">Conv2D</text>\n<polyline fill=\"none\" stroke=\"black\" points=\"169.5,-166.5 169.5,-212.5 \"/>\n<text text-anchor=\"middle\" x=\"197\" y=\"-197.3\" font-family=\"Times,serif\" font-size=\"14.00\">input:</text>\n<polyline fill=\"none\" stroke=\"black\" points=\"169.5,-189.5 224.5,-189.5 \"/>\n<text text-anchor=\"middle\" x=\"197\" y=\"-174.3\" font-family=\"Times,serif\" font-size=\"14.00\">output:</text>\n<polyline fill=\"none\" stroke=\"black\" points=\"224.5,-166.5 224.5,-212.5 \"/>\n<text text-anchor=\"middle\" x=\"273.5\" y=\"-197.3\" font-family=\"Times,serif\" font-size=\"14.00\">(None, 6, 6, 1)</text>\n<polyline fill=\"none\" stroke=\"black\" points=\"224.5,-189.5 322.5,-189.5 \"/>\n<text text-anchor=\"middle\" x=\"273.5\" y=\"-174.3\" font-family=\"Times,serif\" font-size=\"14.00\">(None, 4, 4, 3)</text>\n</g>\n<!-- 140591563185504&#45;&gt;140591563185552 -->\n<g id=\"edge1\" class=\"edge\">\n<title>140591563185504-&gt;140591563185552</title>\n<path fill=\"none\" stroke=\"black\" d=\"M208,-249.37C208,-241.15 208,-231.66 208,-222.73\"/>\n<polygon fill=\"black\" stroke=\"black\" points=\"211.5,-222.61 208,-212.61 204.5,-222.61 211.5,-222.61\"/>\n</g>\n<!-- 140591563183872 -->\n<g id=\"node4\" class=\"node\">\n<title>140591563183872</title>\n<polygon fill=\"none\" stroke=\"black\" points=\"97.5,-83.5 97.5,-129.5 318.5,-129.5 318.5,-83.5 97.5,-83.5\"/>\n<text text-anchor=\"middle\" x=\"131.5\" y=\"-114.3\" font-family=\"Times,serif\" font-size=\"14.00\">Flatten_1</text>\n<polyline fill=\"none\" stroke=\"black\" points=\"97.5,-106.5 165.5,-106.5 \"/>\n<text text-anchor=\"middle\" x=\"131.5\" y=\"-91.3\" font-family=\"Times,serif\" font-size=\"14.00\">Flatten</text>\n<polyline fill=\"none\" stroke=\"black\" points=\"165.5,-83.5 165.5,-129.5 \"/>\n<text text-anchor=\"middle\" x=\"193\" y=\"-114.3\" font-family=\"Times,serif\" font-size=\"14.00\">input:</text>\n<polyline fill=\"none\" stroke=\"black\" points=\"165.5,-106.5 220.5,-106.5 \"/>\n<text text-anchor=\"middle\" x=\"193\" y=\"-91.3\" font-family=\"Times,serif\" font-size=\"14.00\">output:</text>\n<polyline fill=\"none\" stroke=\"black\" points=\"220.5,-83.5 220.5,-129.5 \"/>\n<text text-anchor=\"middle\" x=\"269.5\" y=\"-114.3\" font-family=\"Times,serif\" font-size=\"14.00\">(None, 4, 4, 3)</text>\n<polyline fill=\"none\" stroke=\"black\" points=\"220.5,-106.5 318.5,-106.5 \"/>\n<text text-anchor=\"middle\" x=\"269.5\" y=\"-91.3\" font-family=\"Times,serif\" font-size=\"14.00\">(None, 48)</text>\n</g>\n<!-- 140591563185552&#45;&gt;140591563183872 -->\n<g id=\"edge2\" class=\"edge\">\n<title>140591563185552-&gt;140591563183872</title>\n<path fill=\"none\" stroke=\"black\" d=\"M208,-166.37C208,-158.15 208,-148.66 208,-139.73\"/>\n<polygon fill=\"black\" stroke=\"black\" points=\"211.5,-139.61 208,-129.61 204.5,-139.61 211.5,-139.61\"/>\n</g>\n<!-- 140591563184928 -->\n<g id=\"node5\" class=\"node\">\n<title>140591563184928</title>\n<polygon fill=\"none\" stroke=\"black\" points=\"110.5,-0.5 110.5,-46.5 305.5,-46.5 305.5,-0.5 110.5,-0.5\"/>\n<text text-anchor=\"middle\" x=\"142.5\" y=\"-31.3\" font-family=\"Times,serif\" font-size=\"14.00\">Dense_1</text>\n<polyline fill=\"none\" stroke=\"black\" points=\"110.5,-23.5 174.5,-23.5 \"/>\n<text text-anchor=\"middle\" x=\"142.5\" y=\"-8.3\" font-family=\"Times,serif\" font-size=\"14.00\">Dense</text>\n<polyline fill=\"none\" stroke=\"black\" points=\"174.5,-0.5 174.5,-46.5 \"/>\n<text text-anchor=\"middle\" x=\"202\" y=\"-31.3\" font-family=\"Times,serif\" font-size=\"14.00\">input:</text>\n<polyline fill=\"none\" stroke=\"black\" points=\"174.5,-23.5 229.5,-23.5 \"/>\n<text text-anchor=\"middle\" x=\"202\" y=\"-8.3\" font-family=\"Times,serif\" font-size=\"14.00\">output:</text>\n<polyline fill=\"none\" stroke=\"black\" points=\"229.5,-0.5 229.5,-46.5 \"/>\n<text text-anchor=\"middle\" x=\"267.5\" y=\"-31.3\" font-family=\"Times,serif\" font-size=\"14.00\">(None, 48)</text>\n<polyline fill=\"none\" stroke=\"black\" points=\"229.5,-23.5 305.5,-23.5 \"/>\n<text text-anchor=\"middle\" x=\"267.5\" y=\"-8.3\" font-family=\"Times,serif\" font-size=\"14.00\">(None, 10)</text>\n</g>\n<!-- 140591563183872&#45;&gt;140591563184928 -->\n<g id=\"edge3\" class=\"edge\">\n<title>140591563183872-&gt;140591563184928</title>\n<path fill=\"none\" stroke=\"black\" d=\"M208,-83.37C208,-75.15 208,-65.66 208,-56.73\"/>\n<polygon fill=\"black\" stroke=\"black\" points=\"211.5,-56.61 208,-46.61 204.5,-56.61 211.5,-56.61\"/>\n</g>\n</g>\n</svg>"
          },
          "metadata": {},
          "execution_count": 9
        }
      ]
    },
    {
      "cell_type": "code",
      "source": [
        "earlyStopping = callbacks.EarlyStopping(monitor='val_loss', #損失を監視\n",
        "                                        patience=5) #epoch5つ分様子を見る"
      ],
      "metadata": {
        "id": "m-VxJldXxqm2"
      },
      "execution_count": 10,
      "outputs": []
    },
    {
      "cell_type": "code",
      "source": [
        "\n",
        "model.compile(loss='mean_squared_error', #平均（mean）二乗（squared）誤差（error）\n",
        "              optimizer='sgd' # パラメータの重みをSGDで最適化する\n",
        "              # SGD = 確率的勾配降下法\n",
        "              )\n",
        "model.fit(x_train, y_train, # 学習データと答えデータ\n",
        "          batch_size = 32, # 32個ずつまとめて学習（=バッチ学習）してから重みを調整する。\n",
        "          epochs = 10, # バッチが終わったら重みを調整して学習しなおす。その回数。\n",
        "          callbacks = [earlyStopping], # エポックの中で呼ぶcallback処理のリストに早期終了を追加\n",
        "          validation_split = 0.2, # 学習データのうち2割を、学習中の自己評価検証に使う\n",
        "          )"
      ],
      "metadata": {
        "colab": {
          "base_uri": "https://localhost:8080/"
        },
        "id": "ROT57XdQxtOU",
        "outputId": "1e6ab1ae-241d-49f0-8534-f9b94d5e6c1f"
      },
      "execution_count": 11,
      "outputs": [
        {
          "output_type": "stream",
          "name": "stdout",
          "text": [
            "Epoch 1/10\n",
            "3/3 [==============================] - 1s 110ms/step - loss: 0.0920 - val_loss: 0.0893\n",
            "Epoch 2/10\n",
            "3/3 [==============================] - 0s 16ms/step - loss: 0.0920 - val_loss: 0.0893\n",
            "Epoch 3/10\n",
            "3/3 [==============================] - 0s 12ms/step - loss: 0.0920 - val_loss: 0.0893\n",
            "Epoch 4/10\n",
            "3/3 [==============================] - 0s 12ms/step - loss: 0.0920 - val_loss: 0.0893\n",
            "Epoch 5/10\n",
            "3/3 [==============================] - 0s 13ms/step - loss: 0.0920 - val_loss: 0.0893\n",
            "Epoch 6/10\n",
            "3/3 [==============================] - 0s 12ms/step - loss: 0.0920 - val_loss: 0.0893\n"
          ]
        },
        {
          "output_type": "execute_result",
          "data": {
            "text/plain": [
              "<keras.callbacks.History at 0x7fde01b71040>"
            ]
          },
          "metadata": {},
          "execution_count": 11
        }
      ]
    },
    {
      "cell_type": "code",
      "source": [],
      "metadata": {
        "id": "cRJkHoYmxuo9"
      },
      "execution_count": null,
      "outputs": []
    }
  ]
}