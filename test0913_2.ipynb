{
  "nbformat": 4,
  "nbformat_minor": 0,
  "metadata": {
    "colab": {
      "provenance": [],
      "toc_visible": true,
      "authorship_tag": "ABX9TyM+HiuYQJyNGZfcTOVhAxle",
      "include_colab_link": true
    },
    "kernelspec": {
      "name": "python3",
      "display_name": "Python 3"
    },
    "language_info": {
      "name": "python"
    }
  },
  "cells": [
    {
      "cell_type": "markdown",
      "metadata": {
        "id": "view-in-github",
        "colab_type": "text"
      },
      "source": [
        "<a href=\"https://colab.research.google.com/github/2101324/dl2022late/blob/main/test0913_2.ipynb\" target=\"_parent\"><img src=\"https://colab.research.google.com/assets/colab-badge.svg\" alt=\"Open In Colab\"/></a>"
      ]
    },
    {
      "cell_type": "markdown",
      "source": [
        "#【重要】文字列の整形(フォーマット)"
      ],
      "metadata": {
        "id": "y8NG93I98TRI"
      }
    },
    {
      "cell_type": "code",
      "source": [
        "#定式で指定した形のメッセージにする\n",
        "print('{}{}:{}円')\n",
        "#スロットを定義した順番に、その数だけデータを引き渡して文章を組み立てる\n",
        "print('{}{}:{}円'.format('アップル', 'ペン', 100))"
      ],
      "metadata": {
        "id": "aWKFnreH8f-W",
        "colab": {
          "base_uri": "https://localhost:8080/"
        },
        "outputId": "5b4e7221-4efd-4d34-d7cf-a7898f0fbb62"
      },
      "execution_count": 1,
      "outputs": [
        {
          "output_type": "stream",
          "name": "stdout",
          "text": [
            "{}{}:{}円\n",
            "アップルペン:100円\n"
          ]
        }
      ]
    },
    {
      "cell_type": "markdown",
      "source": [
        "# コレクション演算\n",
        "リスト、タプル、つまり順番がある集合のことをシーケンスという。\n",
        "順番がない集合のことを集合型（セット）という。\n",
        "上記2種類をまとめてコレクションという。\n",
        "コレクションは共通の演算が使える。\n",
        "len(長さ、量を取得),max(最大値を取得),min"
      ],
      "metadata": {
        "id": "z-bZqMnqWz3K"
      }
    },
    {
      "cell_type": "code",
      "source": [
        "list = [1, 1, 2, 3, 4, 5]\n",
        "tuple = (10, 9, 7, 7, 8, 8, 9)\n",
        "set = {1, -2, 3, -4, 5, -6, 7, -8}\n",
        "print(len(list), max(list), min(list))"
      ],
      "metadata": {
        "colab": {
          "base_uri": "https://localhost:8080/"
        },
        "id": "Qp23tSf5WWHu",
        "outputId": "59c3b2d4-7582-418f-c016-d1ddd93e004b"
      },
      "execution_count": 2,
      "outputs": [
        {
          "output_type": "stream",
          "name": "stdout",
          "text": [
            "6 5 1\n"
          ]
        }
      ]
    },
    {
      "cell_type": "code",
      "source": [],
      "metadata": {
        "id": "iN1fTjZNZBG0"
      },
      "execution_count": null,
      "outputs": []
    }
  ]
}