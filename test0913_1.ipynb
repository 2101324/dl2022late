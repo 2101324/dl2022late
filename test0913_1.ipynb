{
  "nbformat": 4,
  "nbformat_minor": 0,
  "metadata": {
    "colab": {
      "provenance": [],
      "authorship_tag": "ABX9TyOCIoAEigTL2/OOjCYJEBZy",
      "include_colab_link": true
    },
    "kernelspec": {
      "name": "python3",
      "display_name": "Python 3"
    },
    "language_info": {
      "name": "python"
    }
  },
  "cells": [
    {
      "cell_type": "markdown",
      "metadata": {
        "id": "view-in-github",
        "colab_type": "text"
      },
      "source": [
        "<a href=\"https://colab.research.google.com/github/2101324/dl2022late/blob/main/test0913_1.ipynb\" target=\"_parent\"><img src=\"https://colab.research.google.com/assets/colab-badge.svg\" alt=\"Open In Colab\"/></a>"
      ]
    },
    {
      "cell_type": "code",
      "execution_count": null,
      "metadata": {
        "id": "7whOOwyLUI4t"
      },
      "outputs": [],
      "source": []
    },
    {
      "cell_type": "markdown",
      "source": [
        "# **リスト型とタプル型**\n",
        "## リストとタプル"
      ],
      "metadata": {
        "id": "bLkZJI_qUkQd"
      }
    },
    {
      "cell_type": "code",
      "source": [
        "# リスト\n",
        "list = ['アップル', 'ペン', 'ペン', 'パイナップル']\n",
        "print(list)\n",
        "print(list[1] + list[2])"
      ],
      "metadata": {
        "colab": {
          "base_uri": "https://localhost:8080/"
        },
        "id": "V_S0fYN-U32h",
        "outputId": "2898f97e-e9ea-4f80-e6b0-20a4312c6354"
      },
      "execution_count": 3,
      "outputs": [
        {
          "output_type": "stream",
          "name": "stdout",
          "text": [
            "['アップル', 'ペン', 'ペン', 'パイナップル']\n",
            "ペンペン\n"
          ]
        }
      ]
    },
    {
      "cell_type": "code",
      "source": [
        "tuple = ('アップル', 'ペン', 'ペン', 'パイナップル')\n",
        "print(tuple)"
      ],
      "metadata": {
        "colab": {
          "base_uri": "https://localhost:8080/"
        },
        "id": "j09EN9GsVv3v",
        "outputId": "aa1d1d4f-f5db-4844-8dee-f4a36c0f6eb4"
      },
      "execution_count": 3,
      "outputs": [
        {
          "output_type": "stream",
          "name": "stdout",
          "text": [
            "('アップル', 'ペン', 'ペン', 'パイナップル')\n"
          ]
        }
      ]
    },
    {
      "cell_type": "code",
      "source": [
        "a = {'apple', 'orange'}\n",
        "b = {'banana', 'grape'}\n",
        "print(a.union(b))"
      ],
      "metadata": {
        "colab": {
          "base_uri": "https://localhost:8080/"
        },
        "id": "LjOvnXA_vK5d",
        "outputId": "def05d9e-541f-45fe-f944-aaae596b6041"
      },
      "execution_count": 6,
      "outputs": [
        {
          "output_type": "stream",
          "name": "stdout",
          "text": [
            "{'banana', 'orange', 'grape', 'apple'}\n"
          ]
        }
      ]
    },
    {
      "cell_type": "code",
      "source": [],
      "metadata": {
        "id": "6qPJaaiWvqlj"
      },
      "execution_count": null,
      "outputs": []
    }
  ]
}