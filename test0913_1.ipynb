{
  "nbformat": 4,
  "nbformat_minor": 0,
  "metadata": {
    "colab": {
      "provenance": [],
      "authorship_tag": "ABX9TyNR0HGMhMc1p7OgrXmqqcPs",
      "include_colab_link": true
    },
    "kernelspec": {
      "name": "python3",
      "display_name": "Python 3"
    },
    "language_info": {
      "name": "python"
    }
  },
  "cells": [
    {
      "cell_type": "markdown",
      "metadata": {
        "id": "view-in-github",
        "colab_type": "text"
      },
      "source": [
        "<a href=\"https://colab.research.google.com/github/2101324/dl2022late/blob/main/test0913_1.ipynb\" target=\"_parent\"><img src=\"https://colab.research.google.com/assets/colab-badge.svg\" alt=\"Open In Colab\"/></a>"
      ]
    },
    {
      "cell_type": "code",
      "execution_count": null,
      "metadata": {
        "id": "7whOOwyLUI4t"
      },
      "outputs": [],
      "source": []
    },
    {
      "cell_type": "markdown",
      "source": [
        "# **リスト型とタプル型**\n",
        "## リストとタプル"
      ],
      "metadata": {
        "id": "bLkZJI_qUkQd"
      }
    },
    {
      "cell_type": "code",
      "source": [
        "# リスト\n",
        "list = ['アップル', 'ペン', 'ペン', 'パイナップル']\n",
        "print(list)\n",
        "print(list[1] + list[2])"
      ],
      "metadata": {
        "colab": {
          "base_uri": "https://localhost:8080/"
        },
        "id": "V_S0fYN-U32h",
        "outputId": "cc66a48a-eef6-4f5a-9db0-bb287050d0ad"
      },
      "execution_count": 9,
      "outputs": [
        {
          "output_type": "stream",
          "name": "stdout",
          "text": [
            "['アップル', 'ペン', 'ペン', 'パイナップル']\n",
            "ペンペン\n"
          ]
        }
      ]
    },
    {
      "cell_type": "code",
      "source": [
        "# タプル\n",
        "tuple = ('アップル','ペン','ペン','パイナップル')\n",
        "print(tuple)\n",
        "print(tuple[1] + tuple[2])"
      ],
      "metadata": {
        "colab": {
          "base_uri": "https://localhost:8080/"
        },
        "id": "j09EN9GsVv3v",
        "outputId": "46c8d3a0-dd36-4951-970e-cddd6f7ae58e"
      },
      "execution_count": 7,
      "outputs": [
        {
          "output_type": "stream",
          "name": "stdout",
          "text": [
            "('アップル', 'ペン', 'ペン', 'パイナップル')\n",
            "ペンペン\n"
          ]
        }
      ]
    },
    {
      "cell_type": "markdown",
      "source": [
        "### 構成を変更できるのはリスト\n",
        "### 構成を変更できない(固定)はタプル"
      ],
      "metadata": {
        "id": "Y3qdW-kHzDma"
      }
    },
    {
      "cell_type": "code",
      "source": [
        "print(list)\n",
        "list.append(100)\n",
        "print(list)\n",
        "del list[2]\n",
        "print(list)\n",
        "list[3] = 'ペン'\n",
        "print(list)\n",
        "list.insert(2,'ペン')\n",
        "print(list)"
      ],
      "metadata": {
        "colab": {
          "base_uri": "https://localhost:8080/"
        },
        "id": "LIYqSo0bzOwu",
        "outputId": "898cfbd6-120e-4a39-f602-2b1bd4d8a4d6"
      },
      "execution_count": 10,
      "outputs": [
        {
          "output_type": "stream",
          "name": "stdout",
          "text": [
            "['アップル', 'ペン', 'ペン', 'パイナップル']\n",
            "['アップル', 'ペン', 'ペン', 'パイナップル', 100]\n",
            "['アップル', 'ペン', 'パイナップル', 100]\n",
            "['アップル', 'ペン', 'パイナップル', 'ペン']\n",
            "['アップル', 'ペン', 'ペン', 'パイナップル', 'ペン']\n"
          ]
        }
      ]
    },
    {
      "cell_type": "markdown",
      "source": [
        "###リストやタプルの長さの取得"
      ],
      "metadata": {
        "id": "DiX9wgwqzjK7"
      }
    },
    {
      "cell_type": "code",
      "source": [
        "print(list)\n",
        "print(len(list))"
      ],
      "metadata": {
        "colab": {
          "base_uri": "https://localhost:8080/"
        },
        "id": "zZ9hrsXlzlGP",
        "outputId": "3994b433-9fa3-4d3f-cde8-6826dfc14c4b"
      },
      "execution_count": 12,
      "outputs": [
        {
          "output_type": "stream",
          "name": "stdout",
          "text": [
            "['アップル', 'ペン', 'ペン', 'パイナップル', 'ペン']\n",
            "5\n"
          ]
        }
      ]
    },
    {
      "cell_type": "markdown",
      "source": [
        "##スライス\n",
        "###データを抽出する(データを一部分取り出す)"
      ],
      "metadata": {
        "id": "4HpOPmHjztU0"
      }
    },
    {
      "cell_type": "code",
      "source": [
        "print(list)\n",
        "print(list[1])\n",
        "print(list[1:3])\n",
        "print(list[1:])"
      ],
      "metadata": {
        "colab": {
          "base_uri": "https://localhost:8080/"
        },
        "id": "iBse7saEznKx",
        "outputId": "712cf6c7-7498-4a96-f5af-f485aa1bfd3d"
      },
      "execution_count": 13,
      "outputs": [
        {
          "output_type": "stream",
          "name": "stdout",
          "text": [
            "['アップル', 'ペン', 'ペン', 'パイナップル', 'ペン']\n",
            "ペン\n",
            "['ペン', 'ペン']\n",
            "['ペン', 'ペン', 'パイナップル', 'ペン']\n"
          ]
        }
      ]
    },
    {
      "cell_type": "markdown",
      "source": [
        "# SET型(集合型)\n",
        "集合型SETは、順番を持たない。重複したデータも持たない。"
      ],
      "metadata": {
        "id": "S-N2nqO7z9_B"
      }
    },
    {
      "cell_type": "code",
      "source": [
        "uniq = set(['アップル','ペン','ペン','パイナップル'])\n",
        "print(uniq)"
      ],
      "metadata": {
        "colab": {
          "base_uri": "https://localhost:8080/"
        },
        "id": "OOSm3nYEzyXH",
        "outputId": "1dba939b-cff6-4087-b116-539705189d13"
      },
      "execution_count": 14,
      "outputs": [
        {
          "output_type": "stream",
          "name": "stdout",
          "text": [
            "{'アップル', 'ペン', 'パイナップル'}\n"
          ]
        }
      ]
    },
    {
      "cell_type": "markdown",
      "source": [
        "## 集合型の追加、変更、削除"
      ],
      "metadata": {
        "id": "zbYir1MC0F4G"
      }
    },
    {
      "cell_type": "code",
      "source": [
        "print(uniq)\n",
        "uniq.add('バナナ')\n",
        "uniq.remove('ペン')\n",
        "print(uniq)"
      ],
      "metadata": {
        "colab": {
          "base_uri": "https://localhost:8080/"
        },
        "id": "Kw9XrKSN0Cmq",
        "outputId": "50c3a8d5-eb06-4ec8-bca1-7fe917c144d2"
      },
      "execution_count": 15,
      "outputs": [
        {
          "output_type": "stream",
          "name": "stdout",
          "text": [
            "{'アップル', 'ペン', 'パイナップル'}\n",
            "{'アップル', 'バナナ', 'パイナップル'}\n"
          ]
        }
      ]
    },
    {
      "cell_type": "markdown",
      "source": [
        "### 集合演算\n",
        "包括、積、和、差分"
      ],
      "metadata": {
        "id": "E-ItPMUq0OHc"
      }
    },
    {
      "cell_type": "code",
      "source": [
        "uniq = set(['アップル','ペン','ペン','パイナップル'])\n",
        "a = set(['アップル','ペン'])\n",
        "b = set(['ペン','パイナップル'])\n",
        "print(uniq)\n",
        "print(a)\n",
        "print(b)\n",
        "print(a.issubset(uniq))\n",
        "'ペン' in a "
      ],
      "metadata": {
        "colab": {
          "base_uri": "https://localhost:8080/"
        },
        "id": "vZykyI9d0LB8",
        "outputId": "0f2bc38d-99c1-4c2a-de54-f2e30bbd5f7f"
      },
      "execution_count": 16,
      "outputs": [
        {
          "output_type": "stream",
          "name": "stdout",
          "text": [
            "{'アップル', 'ペン', 'パイナップル'}\n",
            "{'アップル', 'ペン'}\n",
            "{'パイナップル', 'ペン'}\n",
            "True\n"
          ]
        },
        {
          "output_type": "execute_result",
          "data": {
            "text/plain": [
              "True"
            ]
          },
          "metadata": {},
          "execution_count": 16
        }
      ]
    },
    {
      "cell_type": "code",
      "source": [
        "print(a)\n",
        "print(b)\n",
        "print(a.intersection(b))\n",
        "print(a.union(b))\n",
        "a.difference(b)"
      ],
      "metadata": {
        "colab": {
          "base_uri": "https://localhost:8080/"
        },
        "id": "oy-GEZ840V7g",
        "outputId": "8b8fb846-db2e-4c1b-f517-f7394f3a0706"
      },
      "execution_count": 17,
      "outputs": [
        {
          "output_type": "stream",
          "name": "stdout",
          "text": [
            "{'アップル', 'ペン'}\n",
            "{'パイナップル', 'ペン'}\n",
            "{'ペン'}\n",
            "{'アップル', 'ペン', 'パイナップル'}\n"
          ]
        },
        {
          "output_type": "execute_result",
          "data": {
            "text/plain": [
              "{'アップル'}"
            ]
          },
          "metadata": {},
          "execution_count": 17
        }
      ]
    },
    {
      "cell_type": "code",
      "source": [],
      "metadata": {
        "id": "yr1iwt1S0Y-z"
      },
      "execution_count": null,
      "outputs": []
    }
  ]
}